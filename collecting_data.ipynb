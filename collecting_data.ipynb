{
 "cells": [
  {
   "cell_type": "markdown",
   "metadata": {},
   "source": [
    "### old russian dictionary "
   ]
  },
  {
   "cell_type": "code",
   "execution_count": 1,
   "metadata": {},
   "outputs": [],
   "source": [
    "from bs4 import BeautifulSoup\n",
    "import csv\n",
    "import numpy as np\n",
    "import pandas as pd\n",
    "import pickle\n",
    "import requests\n",
    "import re\n",
    "\n",
    "pd.options.display.max_rows = 1000"
   ]
  },
  {
   "cell_type": "code",
   "execution_count": 2,
   "metadata": {},
   "outputs": [],
   "source": [
    "def get_soup(url, simple_encoding=False):\n",
    "    req = requests.get(url)\n",
    "    if not simple_encoding:\n",
    "        req.encoding = 'utf-8'\n",
    "    soup = BeautifulSoup(req.text, 'html.parser')\n",
    "    return soup"
   ]
  },
  {
   "cell_type": "code",
   "execution_count": 47,
   "metadata": {},
   "outputs": [],
   "source": [
    "i = 0\n",
    "url = 'https://rus-old-russian-dict.slovaronline.com/2-%D0%B0%D0%B1%D0%B8%D1%A5'\n",
    "df = list()\n",
    "\n",
    "with open(f\"dict_11_14.csv\", \"w\", encoding='utf-8') as csv_file:\n",
    "    writer = csv.writer(csv_file, delimiter='\\t')    \n",
    "    while url:\n",
    "        soup = get_soup(url)\n",
    "        word = soup.find(\"strong\").text\n",
    "        full_text = soup.find(\"blockquote\").text.strip().replace(\"\\t\", \" \")\n",
    "        writer.writerow((word, full_text, url))\n",
    "        df.append({\"word\": word, \"text\": full_text, \"url\": url})\n",
    "        i += 1\n",
    "        url = soup.find(\"link\", {\"rel\": \"next\"})['href']\n"
   ]
  },
  {
   "cell_type": "code",
   "execution_count": 61,
   "metadata": {},
   "outputs": [
    {
     "data": {
      "text/html": [
       "<div>\n",
       "<style scoped>\n",
       "    .dataframe tbody tr th:only-of-type {\n",
       "        vertical-align: middle;\n",
       "    }\n",
       "\n",
       "    .dataframe tbody tr th {\n",
       "        vertical-align: top;\n",
       "    }\n",
       "\n",
       "    .dataframe thead th {\n",
       "        text-align: right;\n",
       "    }\n",
       "</style>\n",
       "<table border=\"1\" class=\"dataframe\">\n",
       "  <thead>\n",
       "    <tr style=\"text-align: right;\">\n",
       "      <th></th>\n",
       "      <th>text</th>\n",
       "      <th>next_url</th>\n",
       "    </tr>\n",
       "  </thead>\n",
       "  <tbody>\n",
       "    <tr>\n",
       "      <th>АБИѤ</th>\n",
       "      <td>АБИѤ (857) нар. Тогда, тотчас; теперь: И тоу а...</td>\n",
       "      <td>https://rus-old-russian-dict.slovaronline.com/...</td>\n",
       "    </tr>\n",
       "    <tr>\n",
       "      <th>АБО</th>\n",
       "      <td>АБО (1*) союз. В причин. знач. Так как, ибо: б...</td>\n",
       "      <td>https://rus-old-russian-dict.slovaronline.com/...</td>\n",
       "    </tr>\n",
       "    <tr>\n",
       "      <th>АБЫ</th>\n",
       "      <td>АБЫ (91) союз.1.В целевом знач. Чтобы: а кɤзек...</td>\n",
       "      <td>https://rus-old-russian-dict.slovaronline.com/...</td>\n",
       "    </tr>\n",
       "  </tbody>\n",
       "</table>\n",
       "</div>"
      ],
      "text/plain": [
       "                                                   text  \\\n",
       "АБИѤ  АБИѤ (857) нар. Тогда, тотчас; теперь: И тоу а...   \n",
       "АБО   АБО (1*) союз. В причин. знач. Так как, ибо: б...   \n",
       "АБЫ   АБЫ (91) союз.1.В целевом знач. Чтобы: а кɤзек...   \n",
       "\n",
       "                                               next_url  \n",
       "АБИѤ  https://rus-old-russian-dict.slovaronline.com/...  \n",
       "АБО   https://rus-old-russian-dict.slovaronline.com/...  \n",
       "АБЫ   https://rus-old-russian-dict.slovaronline.com/...  "
      ]
     },
     "execution_count": 61,
     "metadata": {},
     "output_type": "execute_result"
    }
   ],
   "source": [
    "pd.read_csv(\"dict_11_14_0.csv\", names=[\"text\", \"next_url\"], sep=\"\\t\")"
   ]
  },
  {
   "cell_type": "code",
   "execution_count": 67,
   "metadata": {},
   "outputs": [],
   "source": [
    "# shortening described in the book\n",
    "shorts = \"\"\"вин. — винительный (падеж)\n",
    "вм. — вместо\n",
    "возвр. — возвратный\n",
    "вопр. — вопросительный\n",
    "воскл .— восклицательный\n",
    "вр. — время \n",
    "выделит. — выделительный \n",
    "гадат.— гадательная (приписка) \n",
    "геогр. — географический \n",
    "гл. — глагол \n",
    "грен. — греческий \n",
    "дат. — дательный (падеж) \n",
    "дв. — двойственное число \n",
    "действ. — действительный залог \n",
    "доп. — дополнение \n",
    "дополнит. — дополнительный \n",
    "др. — другой \n",
    "ед. — единственное число \n",
    "жен. — женский род \n",
    "зд. — здесь \n",
    "зная.— значение \n",
    "изд.— издание \n",
    "изъявит.— изъявительное (наклонение)\n",
    "изъяснит.— изъяснительный\n",
    "им. — имя \n",
    "имен. — именительный (падеж)\n",
    "инф. — инфинитив\n",
    "колин. — количественный\n",
    "конкр. — конкретный\n",
    "кратк. — краткий\n",
    "л. — лицо \n",
    "ласкат. — ласкательный\n",
    "личн. — личный\n",
    "межд. — междометие\n",
    "мест. — местоимение\n",
    "местн. — местный (падеж)\n",
    "мн. — множественное число\n",
    "муж. — мужской род\n",
    "модальн. — модальный\n",
    "накл.— наклонение\n",
    "нар. — наречие\n",
    "наст. — настоящее время \n",
    "начинат. — начинательный\n",
    "неопр. — неопределенный\n",
    "нескл. — несклоняемый\n",
    "образн. — образное (употребление)\n",
    "ок. — около \n",
    "определит. — определительный\n",
    "отвл. — отвлеченный\n",
    "отн. — относящийся \n",
    "относит. — относительный\n",
    "отриц. — отрицательный\n",
    "п. — падеж \n",
    "перен. — переносное (употребление) \n",
    "перечислит. — перечислительный \n",
    "побудит.— побудительный \n",
    "повелит.— повелительное (наклонение) \n",
    "подчинит.— подчинительное (наклонение) \n",
    "поздн. — поздний (список) \n",
    "полн. — полный \n",
    "пор. — порядковый \n",
    "пр. — прилагательное \n",
    "прав. — правильно \n",
    "предик. — предикатив \n",
    "предл. — предлог \n",
    "предлож. — предложение \n",
    "предположит. — предположительный \n",
    "придат.— придаточное (предложение) \n",
    "прилож. — приложение \n",
    "присоединит. — присоединительный \n",
    "притяж. — притяжательный \n",
    "прич. — причастие \n",
    "причин. — причинный \n",
    "прозе. — прозвище \n",
    "противит. — противительный \n",
    "противоп. — противоположное \n",
    "прош. — прошедшее время \n",
    "разделит. — разделительный \n",
    "род. — родительный (падеж) \n",
    "рук. — рукопись \n",
    "с. — существительное \n",
    "собир. — собирательный \n",
    "собств. — собственный \n",
    "соедин. — соединительный \n",
    "сопостав. — сопоставительный \n",
    "сослагат.— сослагательное (наклонение) \n",
    "сост. — состав \n",
    "соч. — сочетание \n",
    "сочин. — сочинительный \n",
    "ср. — сравни \n",
    "сравн. — сравнительный \n",
    "среди. — средний род \n",
    "степ. — степень \n",
    "страд. — страдательный залог \n",
    "твор. — творительный (падеж) \n",
    "указат. — указательный \n",
    "уменым. — уменьшительный \n",
    "уничижит.— уничижительный\n",
    "употр.— употребление\n",
    "усилит.— усилительны\n",
    "уcл. — условный\n",
    "уступ. — уступительный \n",
    "ч. — частица \n",
    "числ. — слово с числовым значением\"\"\"\n",
    "\n",
    "shortenings = dict(tuple(y.strip() for y in x.split(\"—\")) for x in shorts.split(\"\\n\"))"
   ]
  },
  {
   "cell_type": "code",
   "execution_count": 23,
   "metadata": {},
   "outputs": [],
   "source": [
    "s = df.text.loc[0]"
   ]
  },
  {
   "cell_type": "code",
   "execution_count": 91,
   "metadata": {},
   "outputs": [],
   "source": [
    "def parse_raw_text(s):\n",
    "    \n",
    "    result = dict()\n",
    "    \n",
    "    num = re.search(r\"\\(.+?\\)\", s)\n",
    "    if not num:\n",
    "        point = re.search(r\"см\").span()[0]\n",
    "        if not point:\n",
    "            print(s)\n",
    "            raise AssertionError\n",
    "        dict_word = s[:point].strip()\n",
    "        result[\"dict_word\"] = dict_word\n",
    "        return result\n",
    "    \n",
    "    dict_word = s[:num.span()[0]].strip()\n",
    "    quantity = int(re.search(r\"\\d+\", num[0])[0])\n",
    "    rest = s[num.span()[1]:].strip().split()\n",
    "    for i, part in enumerate(rest):\n",
    "        print(part)\n",
    "        if part.startswith(\"-\"):\n",
    "            print(\"has -\")\n",
    "            result.setdefault(\"alt\", list()).append(part)\n",
    "        elif part in shortenings:\n",
    "            print(\"short\")\n",
    "            result.setdefault(\"info\", list()).append(part)\n",
    "        elif part.endswith(\":\"):\n",
    "            print(\"end\")\n",
    "            result.setdefault(\"definition\", list()).append(part[:-1])\n",
    "            result[\"definition\"] = \" \".join(result[\"definition\"])\n",
    "            if len(rest) > (i + 1):\n",
    "                result[\"leftovers\"] = \" \".join(rest[(i + 1):])\n",
    "            return result\n",
    "        else:\n",
    "            print(\"def\")\n",
    "            result.setdefault(\"definition\", list()).append(part)"
   ]
  },
  {
   "cell_type": "code",
   "execution_count": 93,
   "metadata": {},
   "outputs": [
    {
     "name": "stdout",
     "output_type": "stream",
     "text": [
      "нар.\n",
      "short\n",
      "Тогда,\n",
      "def\n",
      "тотчас;\n",
      "def\n",
      "теперь:\n",
      "end\n"
     ]
    },
    {
     "data": {
      "text/plain": [
       "{'info': ['нар.'],\n",
       " 'definition': 'Тогда, тотчас; теперь',\n",
       " 'leftovers': 'И тоу абиѥ отъкрышѩ || ѥдинъ. отъ златыхъ онѣхъ ларевъ. И начѩша искладати. срачицѣ и свиты цс҃рьскы˫а. Изб 1076, 272—272 об.; и абиѥ вьсѣмъ весла ѡ(т) роукоу испадоша. и вьси отъ страха омьртвѣша. СкБГ XII, 13г; и абиѥ пакы дъждь прѣста и сл҃нце въси˫а. ЖФП XII, 64г; абиѥ же оученикомъ повелѣваѥть. свѣще при˫ати въ роукахъ и пѣ(с) исходьныхъ начѩти. (παραυτίκα) ЖФСтХII, 168; Гл҃ють ˫ако коѥмоужьдо чл҃вкоу ражающюсѩ. абиѥ бѣсъ соущьствьно съчетаѥтьсѩ ѡ(т) осоужени˫а адамова. (παραυτίκα) ΚΕ XII, 285б; по почѩтии же таковѣмь. абиѥ покади(т) по(п) окр(с)тъ одра одиною. УСт XII/ΧΙΙΙ, 274; единъ ѡ(т) воинъ. копьемь емоу ребра прободе. и абье изиде изъ ребра іс(с)ва кровь и в(о)да. КР 1284, 274в; Что оубо оч҃е аще придеть хотѩ взѩти ризоу мою. дамь ли ѥмоу абиѥ. (παραχρῆμα) ПНЧ 1296, 13 об.; ѥмоу же ѡтрокъ зълчью рыбьѥю ѡчи помаза. и абьѥ тоу прозрѣ. ПрЛ XIII, 82а; абиѥ ѡ(т)ложивъ сонъ ѡ(т) своѥю вѣкоу ѡ(т)вергъ стани крѣпъко на лѣность.СбЯр XIII, 219; въ ѥдинъ ѡ(т) дьни повелѣ Симонъ привести оунець превеликъ, възгласи въ оухо ѥмоу, абые оумре оунець. (παρευϑύς) ΓΑ XIII—XIV, 153б; еп(с)пъ же Корсуньскіи. с попы цр҃цны. ѡгласивъ кр(с)ти Володимира. ˫ако възложи руку на нь. абье прозрѣ. ЛЛ 1377, 38 об. (988); он же ту абиѥ поимъ жену свою и дѣтищ(а) сво˫а и кр(с)тисѩ. ЧтБГ к. XI сп. XIV, 7а; и абьѥ изиде | старець из манастырѩ своѥго и иде въслѣдъ гл҃ющаго. (Αὐτίκα) СбЧуд XIV, 58—59; цр҃квь бо ту абье въ||здвиже феодосьи. преоукрашену и всечюдну. Мин XIV (май, 2), 14— 14 об.; шедъ абье отрокъ. и видѣвъ прозвутера. възъврати(с) (αὔϑις) ПНЧ XIV, 111а; и абьѥ азъ вижю ѡ(т) васъ ни ѥдиного ни двою. но многи (γοῦν) ФСт XIV, 2а; и абье власть има(м) положити д҃шю мою. и вла(с) има(м) паки взѩти ю. ГБ XIV, 75в; кожа исохаема, и ѡчи въглɤбитасѩ, и абиѥ всѩ красота лична˫а исчезнеть (εὐϑέως) Пч к. XIV, 93; и се абие изиде изъ оустъ китовыхъ оутоноувыи дроугъ ихъ. СбТр к. XIV, 199 об.; и абье ведесѩ іс(с)ъ д҃хомь в пустыню. и постисѩ •м҃• д҃нии ЗЦ к. XIV, 96в; Ре(ч) же абье нахоръ к нему ты оубо бл҃городне д҃шею паче нежели тѣломъ. (εὐϑύς) ЖВИ XIV—XV, 105в; и абиѥ изиде вода ѡ(т) челюсти. и напитьсѩ ѡ(т) истекши˫а воды то˫а. Пал 1406, 181б; ѡни же тоу абиѥ начаша въпросы творити. ПКП 1406, 194в; слышавъ же Данилъ при||ходъ Ростиславль. со кнѩзи Болоховьскими. на Бакотоу. абье оустремисѩ на нѣ. грады ихъ ѡгневи предасть. ЛИ ок. 1425, 266 об. —267 (1241).'}"
      ]
     },
     "execution_count": 93,
     "metadata": {},
     "output_type": "execute_result"
    }
   ],
   "source": [
    "parse_raw_text(s)"
   ]
  },
  {
   "cell_type": "code",
   "execution_count": null,
   "metadata": {},
   "outputs": [],
   "source": []
  },
  {
   "cell_type": "code",
   "execution_count": null,
   "metadata": {},
   "outputs": [],
   "source": []
  },
  {
   "cell_type": "code",
   "execution_count": null,
   "metadata": {},
   "outputs": [],
   "source": []
  }
 ],
 "metadata": {
  "kernelspec": {
   "display_name": "Python 3",
   "language": "python",
   "name": "python3"
  },
  "language_info": {
   "codemirror_mode": {
    "name": "ipython",
    "version": 3
   },
   "file_extension": ".py",
   "mimetype": "text/x-python",
   "name": "python",
   "nbconvert_exporter": "python",
   "pygments_lexer": "ipython3",
   "version": "3.7.1"
  }
 },
 "nbformat": 4,
 "nbformat_minor": 2
}
