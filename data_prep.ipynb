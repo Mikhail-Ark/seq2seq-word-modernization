{
 "cells": [
  {
   "cell_type": "code",
   "execution_count": 1,
   "metadata": {},
   "outputs": [],
   "source": [
    "import time\n",
    "import re\n",
    "import pickle\n",
    "import pandas as pd\n",
    "import numpy as np"
   ]
  },
  {
   "cell_type": "code",
   "execution_count": 7,
   "metadata": {},
   "outputs": [],
   "source": [
    "with open(\"srez.pickle\", \"rb\") as f:\n",
    "    rsrez = pd.DataFrame(pickle.load(f))"
   ]
  },
  {
   "cell_type": "code",
   "execution_count": 9,
   "metadata": {},
   "outputs": [],
   "source": [
    "rsrez = rsrez[rsrez[\"Часть речи\"].isin([\"ПРИЛ\", \"НАР\", \"СУЩ\", \"\", \"ГЛАГ\", \"МЕСТ\", \"ПРЕД\"]) & (~rsrez[\"Значения\"].isin([\"\", \"?\"]))]\n",
    "\n",
    "rsrez_pos = {\n",
    "    'ПРИЛ': \"adjective\",\n",
    "    'НАР': \"adverb\",\n",
    "    'СУЩ': \"noun\",\n",
    "    'ГЛАГ': \"verb\",\n",
    "    'МЕСТ': \"pronoun\",\n",
    "    '': None,\n",
    "    'ПРЕД': \"preposition\"\n",
    "}\n",
    "\n",
    "rsrez = rsrez.assign(\n",
    "    word=rsrez[\"Словарная статья\"].str.lower(),\n",
    "    definition=rsrez[\"Значения\"].map(lambda x: re.sub(r\"\\n\", \" \", x)).map(lambda x: re.sub(r\"[^\\w\\ ]\", \"\", x).strip()),\n",
    "    pos=srez[\"Часть речи\"].map(srez_pos),\n",
    "    sourse=\"sreznevskiy\"\n",
    ")[[\"old_rus_word\", \"definition\", \"pos\", \"sourse\"]]"
   ]
  },
  {
   "cell_type": "code",
   "execution_count": 166,
   "metadata": {
    "scrolled": true
   },
   "outputs": [
    {
     "data": {
      "text/html": [
       "<div>\n",
       "<style scoped>\n",
       "    .dataframe tbody tr th:only-of-type {\n",
       "        vertical-align: middle;\n",
       "    }\n",
       "\n",
       "    .dataframe tbody tr th {\n",
       "        vertical-align: top;\n",
       "    }\n",
       "\n",
       "    .dataframe thead th {\n",
       "        text-align: right;\n",
       "    }\n",
       "</style>\n",
       "<table border=\"1\" class=\"dataframe\">\n",
       "  <thead>\n",
       "    <tr style=\"text-align: right;\">\n",
       "      <th></th>\n",
       "      <th>word</th>\n",
       "      <th>translation</th>\n",
       "      <th>pos</th>\n",
       "      <th>sourse</th>\n",
       "    </tr>\n",
       "  </thead>\n",
       "  <tbody>\n",
       "    <tr>\n",
       "      <th>5</th>\n",
       "      <td>абидныи</td>\n",
       "      <td>обидный</td>\n",
       "      <td>adjective</td>\n",
       "      <td>sreznevskiy</td>\n",
       "    </tr>\n",
       "    <tr>\n",
       "      <th>6</th>\n",
       "      <td>абиѥ</td>\n",
       "      <td>тот час</td>\n",
       "      <td>adverb</td>\n",
       "      <td>sreznevskiy</td>\n",
       "    </tr>\n",
       "    <tr>\n",
       "      <th>7</th>\n",
       "      <td>аблань</td>\n",
       "      <td>яблоня</td>\n",
       "      <td>noun</td>\n",
       "      <td>sreznevskiy</td>\n",
       "    </tr>\n",
       "    <tr>\n",
       "      <th>8</th>\n",
       "      <td>абланьныи</td>\n",
       "      <td>яблоневый</td>\n",
       "      <td>adjective</td>\n",
       "      <td>sreznevskiy</td>\n",
       "    </tr>\n",
       "    <tr>\n",
       "      <th>9</th>\n",
       "      <td>аблъко</td>\n",
       "      <td>яблоко</td>\n",
       "      <td>noun</td>\n",
       "      <td>sreznevskiy</td>\n",
       "    </tr>\n",
       "  </tbody>\n",
       "</table>\n",
       "</div>"
      ],
      "text/plain": [
       "        word translation        pos       sourse\n",
       "5    абидныи     обидный  adjective  sreznevskiy\n",
       "6       абиѥ     тот час     adverb  sreznevskiy\n",
       "7     аблань      яблоня       noun  sreznevskiy\n",
       "8  абланьныи   яблоневый  adjective  sreznevskiy\n",
       "9     аблъко      яблоко       noun  sreznevskiy"
      ]
     },
     "execution_count": 166,
     "metadata": {},
     "output_type": "execute_result"
    }
   ],
   "source": [
    "rsrez.head()"
   ]
  },
  {
   "cell_type": "code",
   "execution_count": 171,
   "metadata": {
    "scrolled": true
   },
   "outputs": [],
   "source": [
    "or_dict = rsrez[rsrez.definition.map(lambda x: \" \" not in x)]"
   ]
  },
  {
   "cell_type": "code",
   "execution_count": 172,
   "metadata": {},
   "outputs": [],
   "source": [
    "or_w2w = rsrez[rsrez.definition.map(lambda x: \" \" in x)]"
   ]
  },
  {
   "cell_type": "code",
   "execution_count": null,
   "metadata": {},
   "outputs": [],
   "source": []
  },
  {
   "cell_type": "code",
   "execution_count": 66,
   "metadata": {},
   "outputs": [],
   "source": [
    "with open(\"parsed_410_tomes.pickle\", \"rb\") as f:\n",
    "    t410 = pickle.load(f)"
   ]
  },
  {
   "cell_type": "code",
   "execution_count": 82,
   "metadata": {},
   "outputs": [],
   "source": [
    "t410 = t410[~t410.definition.astype(str).str.contains(r\"^(?:к|то)\\ \", case=False)]"
   ]
  },
  {
   "cell_type": "code",
   "execution_count": 98,
   "metadata": {
    "scrolled": true
   },
   "outputs": [],
   "source": [
    "t410 = t410[~t410.word.str.lower().isin(rsrez.old_rus_word.values)]\n",
    "\n",
    "t410 = t410[~t410[\"info\"].map(lambda x: \"союз.\" in x if (x == x) else False)]\n",
    "\n",
    "t410 = t410[t410.definition.notna()]"
   ]
  },
  {
   "cell_type": "code",
   "execution_count": 140,
   "metadata": {},
   "outputs": [],
   "source": [
    "def ps_conv(l):\n",
    "    if l != l:\n",
    "        return None\n",
    "    conv_dict = {\n",
    "        \"с.\": \"noun\",\n",
    "        \"пр.\": \"adjective\",\n",
    "        \"нар.\": \"adverb\",\n",
    "        \"гл.\": \"verb\",\n",
    "        \"мест.\": \"pronoun\"\n",
    "    } \n",
    "    for k, v in conv_dict.items():\n",
    "        if k in l:\n",
    "            return v\n",
    "    return None\n",
    "\n",
    "def clean_t410_definition(inp_s):\n",
    "    s = inp_s.lower()\n",
    "    s = re.sub(r\"[^\\w\\ ]\", \"\", s)\n",
    "    s = \" \".join([x for x in s.split() if all(y in \"абвгдеёжзийклмнопрстуфхцчшщъыьэюя\" for y in x)])\n",
    "    return s"
   ]
  },
  {
   "cell_type": "code",
   "execution_count": 146,
   "metadata": {},
   "outputs": [],
   "source": [
    "t410 = t410.assign(\n",
    "    word=t410[\"word\"].str.lower(),\n",
    "    definition=t410[\"definition\"].map(clean_t410_definition),\n",
    "    pos=t410[\"info\"].map(ps_conv),\n",
    "    sourse=\"avanesov\"\n",
    ")[[\"word\", \"definition\", \"pos\", \"sourse\"]]"
   ]
  },
  {
   "cell_type": "code",
   "execution_count": 284,
   "metadata": {
    "scrolled": true
   },
   "outputs": [],
   "source": [
    "# t410.head()"
   ]
  },
  {
   "cell_type": "code",
   "execution_count": 295,
   "metadata": {
    "scrolled": true
   },
   "outputs": [],
   "source": [
    "or_dict = or_dict.append(or_w2w, ignore_index=True)"
   ]
  },
  {
   "cell_type": "code",
   "execution_count": 181,
   "metadata": {
    "scrolled": true
   },
   "outputs": [],
   "source": [
    "or_dict = or_dict.append(t410[t410.translation.map(lambda x: \" \" not in x)], ignore_index=True)\n",
    "or_dict = or_dict.assign(word=or_dict.word.str.replace(r\"c\", \"с\").map(lambda x: re.sub(r\"(?:ѩ|˫а)\", \"я\", x)))"
   ]
  },
  {
   "cell_type": "code",
   "execution_count": 297,
   "metadata": {},
   "outputs": [],
   "source": [
    "leters = set()\n",
    "for x in or_dict.word.values:\n",
    "    leters.update(set(x))\n"
   ]
  },
  {
   "cell_type": "code",
   "execution_count": 300,
   "metadata": {},
   "outputs": [],
   "source": [
    "# with open(\"or_dict.pickle\", \"wb\") as f:\n",
    "#     pickle.dump(or_dict, f)"
   ]
  },
  {
   "cell_type": "code",
   "execution_count": 2,
   "metadata": {},
   "outputs": [],
   "source": [
    "with open(\"or_dict.pickle\", \"rb\") as f:\n",
    "    or_dict = pickle.load(f)"
   ]
  },
  {
   "cell_type": "code",
   "execution_count": 4,
   "metadata": {},
   "outputs": [
    {
     "data": {
      "text/plain": [
       "39329"
      ]
     },
     "execution_count": 4,
     "metadata": {},
     "output_type": "execute_result"
    }
   ],
   "source": [
    "len(or_dict)"
   ]
  },
  {
   "cell_type": "code",
   "execution_count": null,
   "metadata": {},
   "outputs": [],
   "source": [
    "with open(\"or_dict.pickle\", \"rb\") as f:\n",
    "    or_dict = pickle.load(f)"
   ]
  },
  {
   "cell_type": "code",
   "execution_count": 25,
   "metadata": {},
   "outputs": [
    {
     "data": {
      "text/plain": [
       "array(['adjective', 'noun', 'adverb', 'pronoun', 'verb', None,\n",
       "       'preposition'], dtype=object)"
      ]
     },
     "execution_count": 25,
     "metadata": {},
     "output_type": "execute_result"
    }
   ],
   "source": [
    "or_dict.pos.unique()"
   ]
  },
  {
   "cell_type": "code",
   "execution_count": null,
   "metadata": {},
   "outputs": [],
   "source": []
  },
  {
   "cell_type": "code",
   "execution_count": 8,
   "metadata": {},
   "outputs": [],
   "source": [
    "with open(\"oed.pickle\", \"rb\") as f:\n",
    "    oed = pickle.load(f)"
   ]
  },
  {
   "cell_type": "code",
   "execution_count": 15,
   "metadata": {
    "scrolled": true
   },
   "outputs": [
    {
     "data": {
      "text/plain": [
       "definition    a payment\n",
       "pos                 sb.\n",
       "word              yelde\n",
       "Name: 11002, dtype: object"
      ]
     },
     "execution_count": 15,
     "metadata": {},
     "output_type": "execute_result"
    }
   ],
   "source": [
    "oed.loc[11002]"
   ]
  },
  {
   "cell_type": "code",
   "execution_count": 23,
   "metadata": {},
   "outputs": [],
   "source": [
    "oed = oed[oed.word.map(lambda x: len(x) > 2)]"
   ]
  },
  {
   "cell_type": "code",
   "execution_count": null,
   "metadata": {},
   "outputs": [],
   "source": [
    "['adjective', 'noun', 'adverb', 'pronoun', 'verb', None,\n",
    "       'preposition']"
   ]
  },
  {
   "cell_type": "code",
   "execution_count": null,
   "metadata": {},
   "outputs": [],
   "source": [
    "sb\n",
    "adj\n",
    "adv\n",
    "prep pp\n",
    "pron\n",
    "v.\n"
   ]
  },
  {
   "cell_type": "code",
   "execution_count": 32,
   "metadata": {},
   "outputs": [],
   "source": [
    "def pos_oed(s):\n",
    "    if s == s:\n",
    "        pos = {\n",
    "            \"sb.\": \"noun\",\n",
    "            \"adj.\": \"adjective\",\n",
    "            \"adv.\": \"adverb\",\n",
    "            \"prep.\": \"preposition\",\n",
    "            \"pp.\": \"preposition\",\n",
    "            \"pron.\": \"pronoun\",\n",
    "            \"v.\": \"verb\",\n",
    "        }\n",
    "        for k in pos:\n",
    "            if k in s:\n",
    "                return pos[k]"
   ]
  },
  {
   "cell_type": "code",
   "execution_count": 34,
   "metadata": {},
   "outputs": [],
   "source": [
    "oed = oed.assign(pos=oed.pos.map(pos_oed))"
   ]
  },
  {
   "cell_type": "code",
   "execution_count": 47,
   "metadata": {},
   "outputs": [],
   "source": [
    "reg = re.compile(r\"\\b(?:t(?:he|o)|a)\\ \")\n",
    "oed = oed.assign(definition=oed.definition.map(lambda x: reg.sub(\"\", x)))"
   ]
  },
  {
   "cell_type": "code",
   "execution_count": 53,
   "metadata": {},
   "outputs": [],
   "source": [
    "oe_dict = oed.assign(source=\"mayhew_skeat\")"
   ]
  },
  {
   "cell_type": "code",
   "execution_count": 54,
   "metadata": {},
   "outputs": [],
   "source": [
    "# with open(\"oe_dict.pickle\", \"wb\") as f:\n",
    "#     pickle.dump(oe_dict, f)"
   ]
  },
  {
   "cell_type": "code",
   "execution_count": null,
   "metadata": {},
   "outputs": [],
   "source": []
  },
  {
   "cell_type": "code",
   "execution_count": null,
   "metadata": {},
   "outputs": [],
   "source": []
  },
  {
   "cell_type": "code",
   "execution_count": null,
   "metadata": {},
   "outputs": [],
   "source": []
  },
  {
   "cell_type": "code",
   "execution_count": null,
   "metadata": {},
   "outputs": [],
   "source": []
  },
  {
   "cell_type": "code",
   "execution_count": null,
   "metadata": {},
   "outputs": [],
   "source": [
    "with open(\"oec.pickle\", \"rb\") as f:\n",
    "    oec = pickle.load(f)"
   ]
  },
  {
   "cell_type": "code",
   "execution_count": null,
   "metadata": {},
   "outputs": [],
   "source": []
  },
  {
   "cell_type": "code",
   "execution_count": null,
   "metadata": {},
   "outputs": [],
   "source": [
    "with open(\"doe.pickle\", \"rb\") as f:\n",
    "    doe = pickle.load(f)"
   ]
  },
  {
   "cell_type": "code",
   "execution_count": null,
   "metadata": {},
   "outputs": [],
   "source": []
  }
 ],
 "metadata": {
  "kernelspec": {
   "display_name": "Python 3",
   "language": "python",
   "name": "python3"
  },
  "language_info": {
   "codemirror_mode": {
    "name": "ipython",
    "version": 3
   },
   "file_extension": ".py",
   "mimetype": "text/x-python",
   "name": "python",
   "nbconvert_exporter": "python",
   "pygments_lexer": "ipython3",
   "version": "3.7.1"
  }
 },
 "nbformat": 4,
 "nbformat_minor": 2
}
